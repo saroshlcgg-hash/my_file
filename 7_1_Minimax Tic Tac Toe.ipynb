{
 "cells": [
  {
   "cell_type": "markdown",
   "id": "c03951db-84bd-4224-a10f-c9e2c936ecba",
   "metadata": {},
   "source": [
    "# Minimax in Python\n",
    "Implement a Tic-Tac-Toe game with the minimax algorithm in Python. The minimax algorithm allows the AI player to make optimal moves by simulating possible moves and evaluating each outcome"
   ]
  },
  {
   "cell_type": "code",
   "execution_count": null,
   "id": "73127c72-0a45-45e0-80d3-b0aea1150da3",
   "metadata": {},
   "outputs": [],
   "source": [
    "Start\n",
    " │\n",
    " ▼\n",
    "Initialize board ([' ', ..., ' '])\n",
    " │\n",
    " ▼\n",
    "while True:\n",
    " ├─► print_board()\n",
    " ├─► if current_player == 'X':\n",
    " │      ├─ get user input\n",
    " │      ├─ update board\n",
    " │      ├─ if win → end\n",
    " │      └─ else switch to 'O'\n",
    " └─► else (AI's turn):\n",
    "        ├─ find best_move() → minimax()\n",
    "        ├─ update board\n",
    "        ├─ if win → end\n",
    "        └─ else switch to 'X'\n",
    " │\n",
    " ▼\n",
    "if draw → print \"Draw\"\n",
    "End"
   ]
  },
  {
   "cell_type": "markdown",
   "id": "a1257451-83ce-4f23-9cd2-bf57d33b6c2e",
   "metadata": {},
   "source": [
    "### Step 1: Define the Board\n",
    "Let's start by creating a simple board and some utility functions."
   ]
  },
  {
   "cell_type": "code",
   "execution_count": 8,
   "id": "d8ce4e67-80aa-470f-beb3-057b47bebaa6",
   "metadata": {},
   "outputs": [
    {
     "name": "stdout",
     "output_type": "stream",
     "text": [
      "|   |   |   |\n",
      "|   |   |   |\n",
      "|   |   |   |\n"
     ]
    }
   ],
   "source": [
    "# Initialize the board with empty spaces\n",
    "board = [' ' for _ in range(9)]\n",
    "\n",
    "def print_board(board):\n",
    "    for row in [board[i*3:(i+1)*3] for i in range(3)]:\n",
    "        print(\"| \" + \" | \".join(row) + \" |\")\n",
    "print_board(board)"
   ]
  },
  {
   "cell_type": "code",
   "execution_count": 9,
   "id": "77b53428-913f-409b-9075-13bab207fc32",
   "metadata": {},
   "outputs": [],
   "source": [
    "def check_winner(board, player):\n",
    "    # Winning combinations\n",
    "    win_combos = [\n",
    "        [0, 1, 2], [3, 4, 5], [6, 7, 8], # Rows\n",
    "        [0, 3, 6], [1, 4, 7], [2, 5, 8], # Columns\n",
    "        [0, 4, 8], [2, 4, 6]             # Diagonals\n",
    "    ]\n",
    "    for combo in win_combos:\n",
    "        if all(board[i] == player for i in combo):\n",
    "            return True\n",
    "    return False\n",
    "\n",
    "def is_draw(board):\n",
    "    return ' ' not in board\n",
    "\n",
    "def available_moves(board):\n",
    "    return [i for i, spot in enumerate(board) if spot == ' ']\n"
   ]
  },
  {
   "cell_type": "markdown",
   "id": "fc835d28-968c-467c-8525-ae7032f12776",
   "metadata": {},
   "source": [
    "### Step 2: Implement the Minimax Algorithm\n",
    "The minimax function will recursively simulate moves for both players, assigning scores to each possible board state, aiming for the best outcome for the AI."
   ]
  },
  {
   "cell_type": "code",
   "execution_count": 10,
   "id": "3e902189-25f3-4a47-81ef-4d47e4ab0bb7",
   "metadata": {},
   "outputs": [],
   "source": [
    "def minimax(board, depth, is_maximizing):\n",
    "    # Define players\n",
    "    player = 'O'  # AI\n",
    "    opponent = 'X'  # Human\n",
    "\n",
    "    # Base case: Check for a terminal state\n",
    "    if check_winner(board, player):\n",
    "        return 1\n",
    "    elif check_winner(board, opponent):\n",
    "        return -1\n",
    "    elif is_draw(board):\n",
    "        return 0\n",
    "\n",
    "    # Recursive case\n",
    "    if is_maximizing:# AI moves 'O'\n",
    "        best_score = float('-inf')\n",
    "        for move in available_moves(board):\n",
    "            board[move] = player\n",
    "            score = minimax(board, depth + 1, False)\n",
    "            board[move] = ' '  # Undo move\n",
    "            best_score = max(score, best_score)\n",
    "        return best_score\n",
    "    else:# human moves 'x'\n",
    "        best_score = float('inf')\n",
    "        for move in available_moves(board):\n",
    "            board[move] = opponent\n",
    "            score = minimax(board, depth + 1, True)\n",
    "            #human picks the minimum of those scores (worst for AI, best for itself)\n",
    "            board[move] = ' '  # Undo move\n",
    "            best_score = min(score, best_score)\n",
    "        return best_score\n"
   ]
  },
  {
   "cell_type": "markdown",
   "id": "7eabc4ef-e1a5-4e18-b71d-0cb5c661179f",
   "metadata": {},
   "source": [
    "### Step 3: Determine the Best Move\n",
    "With minimax implemented, we can define a function to select the best move for the AI."
   ]
  },
  {
   "cell_type": "code",
   "execution_count": 12,
   "id": "406e5ade-19ba-4f2d-9799-9bd950f9a508",
   "metadata": {},
   "outputs": [],
   "source": [
    "def best_move(board):\n",
    "    best_score = float('-inf')\n",
    "    move = None\n",
    "    for i in available_moves(board):\n",
    "        board[i] = 'O'  # AI move\n",
    "        score = minimax(board, 0, False)\n",
    "        board[i] = ' '  # Undo move\n",
    "        if score > best_score:\n",
    "            best_score = score\n",
    "            move = i\n",
    "    return move"
   ]
  },
  {
   "cell_type": "markdown",
   "id": "24dbdfea-bf0d-4fd9-8f49-1396c5b845fa",
   "metadata": {},
   "source": [
    "### Step 4: Play the Game\n",
    "Here's how to structure the main game loop:"
   ]
  },
  {
   "cell_type": "code",
   "execution_count": 6,
   "id": "daca88af-e1a4-4cdb-9d25-1cda7ce1ec89",
   "metadata": {},
   "outputs": [
    {
     "name": "stdout",
     "output_type": "stream",
     "text": [
      "Welcome to Tic-Tac-Toe!\n",
      "|   |   |   |\n",
      "|   |   |   |\n",
      "|   |   |   |\n"
     ]
    },
    {
     "name": "stdin",
     "output_type": "stream",
     "text": [
      "Enter your move (0-8):  5\n"
     ]
    },
    {
     "name": "stdout",
     "output_type": "stream",
     "text": [
      "|   |   |   |\n",
      "|   |   | X |\n",
      "|   |   |   |\n",
      "AI is making a move...\n",
      "|   |   | O |\n",
      "|   |   | X |\n",
      "|   |   |   |\n"
     ]
    },
    {
     "name": "stdin",
     "output_type": "stream",
     "text": [
      "Enter your move (0-8):  3\n"
     ]
    },
    {
     "name": "stdout",
     "output_type": "stream",
     "text": [
      "|   |   | O |\n",
      "| X |   | X |\n",
      "|   |   |   |\n",
      "AI is making a move...\n",
      "|   |   | O |\n",
      "| X | O | X |\n",
      "|   |   |   |\n"
     ]
    },
    {
     "name": "stdin",
     "output_type": "stream",
     "text": [
      "Enter your move (0-8):  6\n"
     ]
    },
    {
     "name": "stdout",
     "output_type": "stream",
     "text": [
      "|   |   | O |\n",
      "| X | O | X |\n",
      "| X |   |   |\n",
      "AI is making a move...\n",
      "| O |   | O |\n",
      "| X | O | X |\n",
      "| X |   |   |\n"
     ]
    },
    {
     "name": "stdin",
     "output_type": "stream",
     "text": [
      "Enter your move (0-8):  8\n"
     ]
    },
    {
     "name": "stdout",
     "output_type": "stream",
     "text": [
      "| O |   | O |\n",
      "| X | O | X |\n",
      "| X |   | X |\n",
      "AI is making a move...\n",
      "| O | O | O |\n",
      "| X | O | X |\n",
      "| X |   | X |\n",
      "AI wins!\n"
     ]
    }
   ],
   "source": [
    "def play_game():\n",
    "    print(\"Welcome to Tic-Tac-Toe!\")\n",
    "    current_player = 'X'  # Human starts\n",
    "\n",
    "    while True:\n",
    "        print_board(board)\n",
    "        if current_player == 'X':\n",
    "            # Human move\n",
    "            move = int(input(\"Enter your move (0-8): \"))\n",
    "            if board[move] == ' ':\n",
    "                board[move] = 'X'\n",
    "                if check_winner(board, 'X'):\n",
    "                    print_board(board)\n",
    "                    print(\"You win!\")\n",
    "                    break\n",
    "                current_player = 'O'\n",
    "        else:\n",
    "            # AI move\n",
    "            print(\"AI is making a move...\")\n",
    "            move = best_move(board)\n",
    "            board[move] = 'O'\n",
    "            if check_winner(board, 'O'):\n",
    "                print_board(board)\n",
    "                print(\"AI wins!\")\n",
    "                break\n",
    "            current_player = 'X'\n",
    "\n",
    "        if is_draw(board):\n",
    "            print_board(board)\n",
    "            print(\"It's a draw!\")\n",
    "            break\n",
    "\n",
    "play_game()\n"
   ]
  }
 ],
 "metadata": {
  "kernelspec": {
   "display_name": "Python 3 (ipykernel)",
   "language": "python",
   "name": "python3"
  },
  "language_info": {
   "codemirror_mode": {
    "name": "ipython",
    "version": 3
   },
   "file_extension": ".py",
   "mimetype": "text/x-python",
   "name": "python",
   "nbconvert_exporter": "python",
   "pygments_lexer": "ipython3",
   "version": "3.11.7"
  }
 },
 "nbformat": 4,
 "nbformat_minor": 5
}
